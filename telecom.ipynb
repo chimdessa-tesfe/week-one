{
  "nbformat": 4,
  "nbformat_minor": 0,
  "metadata": {
    "colab": {
      "name": "telecom.ipynb",
      "provenance": [],
      "collapsed_sections": [],
      "authorship_tag": "ABX9TyMUbVEW9tKngvfqN0By9HXX",
      "include_colab_link": true
    },
    "kernelspec": {
      "display_name": "Python 3",
      "name": "python3"
    },
    "language_info": {
      "name": "python"
    }
  },
  "cells": [
    {
      "cell_type": "markdown",
      "metadata": {
        "id": "view-in-github",
        "colab_type": "text"
      },
      "source": [
        "<a href=\"https://colab.research.google.com/github/chimdessa-tesfe/week-one/blob/main/telecom.ipynb\" target=\"_parent\"><img src=\"https://colab.research.google.com/assets/colab-badge.svg\" alt=\"Open In Colab\"/></a>"
      ]
    },
    {
      "cell_type": "code",
      "metadata": {
        "id": "_smcuHAMph23"
      },
      "source": [
        "import pandas as pd\n",
        "import numpy as np\n",
        "import io"
      ],
      "execution_count": 16,
      "outputs": []
    },
    {
      "cell_type": "markdown",
      "metadata": {
        "id": "pITFY_p1JjtY"
      },
      "source": [
        "Import The csv file to **colab**"
      ]
    },
    {
      "cell_type": "code",
      "metadata": {
        "colab": {
          "resources": {
            "http://localhost:8080/nbextensions/google.colab/files.js": {
              "data": "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",
              "ok": true,
              "headers": [
                [
                  "content-type",
                  "application/javascript"
                ]
              ],
              "status": 200,
              "status_text": ""
            }
          },
          "base_uri": "https://localhost:8080/",
          "height": 72
        },
        "id": "ldngqYyEpuNa",
        "outputId": "148fd846-f91b-4b80-ecef-9742daa79969"
      },
      "source": [
        "from google.colab import files \n",
        "uploaded = files.upload()"
      ],
      "execution_count": 17,
      "outputs": [
        {
          "output_type": "display_data",
          "data": {
            "text/html": [
              "\n",
              "     <input type=\"file\" id=\"files-0e86d80c-b2aa-4676-91b4-b46f08191d0e\" name=\"files[]\" multiple disabled\n",
              "        style=\"border:none\" />\n",
              "     <output id=\"result-0e86d80c-b2aa-4676-91b4-b46f08191d0e\">\n",
              "      Upload widget is only available when the cell has been executed in the\n",
              "      current browser session. Please rerun this cell to enable.\n",
              "      </output>\n",
              "      <script src=\"/nbextensions/google.colab/files.js\"></script> "
            ],
            "text/plain": [
              "<IPython.core.display.HTML object>"
            ]
          },
          "metadata": {
            "tags": []
          }
        },
        {
          "output_type": "stream",
          "text": [
            "Saving Week1_challenge_data_source.csv to Week1_challenge_data_source (6).csv\n"
          ],
          "name": "stdout"
        }
      ]
    },
    {
      "cell_type": "code",
      "metadata": {
        "colab": {
          "base_uri": "https://localhost:8080/"
        },
        "id": "4qO1jnOtMv6C",
        "outputId": "43fd62de-4ad6-4bfc-de32-7045052d1243"
      },
      "source": [
        "df = pd.read_csv(io.BytesIO(uploaded['Week1_challenge_data_source.csv']))\n",
        "print(df)"
      ],
      "execution_count": 18,
      "outputs": [
        {
          "output_type": "stream",
          "text": [
            "           Bearer Id            Start  ...  Total UL (Bytes) Total DL (Bytes)\n",
            "0       1.310000e+19   4/4/2019 12:01  ...        36749741.0      308879636.0\n",
            "1       1.310000e+19   4/9/2019 13:04  ...        53800391.0      653384965.0\n",
            "2       1.310000e+19   4/9/2019 17:42  ...        27883638.0      279807335.0\n",
            "3       1.310000e+19   4/10/2019 0:31  ...        43324218.0      846028530.0\n",
            "4       1.310000e+19  4/12/2019 20:10  ...        38542814.0      569138589.0\n",
            "...              ...              ...  ...               ...              ...\n",
            "149996  7.280000e+18   4/29/2019 7:28  ...        57628851.0      574175259.0\n",
            "149997  7.350000e+18   4/29/2019 7:28  ...        39135081.0      666648844.0\n",
            "149998  1.310000e+19   4/29/2019 7:28  ...        34912224.0      592786405.0\n",
            "149999  1.310000e+19   4/29/2019 7:28  ...        29626096.0      371895920.0\n",
            "150000           NaN              NaN  ...               NaN              NaN\n",
            "\n",
            "[150001 rows x 55 columns]\n"
          ],
          "name": "stdout"
        }
      ]
    },
    {
      "cell_type": "markdown",
      "metadata": {
        "id": "EKbCA05CVWgT"
      },
      "source": [
        ""
      ]
    },
    {
      "cell_type": "markdown",
      "metadata": {
        "id": "oL7cZP4Sgsgn"
      },
      "source": [
        "**Before preprocessing we have to explore what is in the data.The column names, how many data points, number of colum etc. All these questions needs to be answered**"
      ]
    },
    {
      "cell_type": "code",
      "metadata": {
        "colab": {
          "base_uri": "https://localhost:8080/"
        },
        "id": "ThWsaAhQg1jg",
        "outputId": "73d02c7d-d095-4dd7-85b3-1a1a0895f118"
      },
      "source": [
        "# column names\n",
        "df.columns.tolist()"
      ],
      "execution_count": 19,
      "outputs": [
        {
          "output_type": "execute_result",
          "data": {
            "text/plain": [
              "['Bearer Id',\n",
              " 'Start',\n",
              " 'Start ms',\n",
              " 'End',\n",
              " 'End ms',\n",
              " 'Dur. (ms)',\n",
              " 'IMSI',\n",
              " 'MSISDN/Number',\n",
              " 'IMEI',\n",
              " 'Last Location Name',\n",
              " 'Avg RTT DL (ms)',\n",
              " 'Avg RTT UL (ms)',\n",
              " 'Avg Bearer TP DL (kbps)',\n",
              " 'Avg Bearer TP UL (kbps)',\n",
              " 'TCP DL Retrans. Vol (Bytes)',\n",
              " 'TCP UL Retrans. Vol (Bytes)',\n",
              " 'DL TP < 50 Kbps (%)',\n",
              " '50 Kbps < DL TP < 250 Kbps (%)',\n",
              " '250 Kbps < DL TP < 1 Mbps (%)',\n",
              " 'DL TP > 1 Mbps (%)',\n",
              " 'UL TP < 10 Kbps (%)',\n",
              " '10 Kbps < UL TP < 50 Kbps (%)',\n",
              " '50 Kbps < UL TP < 300 Kbps (%)',\n",
              " 'UL TP > 300 Kbps (%)',\n",
              " 'HTTP DL (Bytes)',\n",
              " 'HTTP UL (Bytes)',\n",
              " 'Activity Duration DL (ms)',\n",
              " 'Activity Duration UL (ms)',\n",
              " 'Dur. (ms).1',\n",
              " 'Handset Manufacturer',\n",
              " 'Handset Type',\n",
              " 'Nb of sec with 125000B < Vol DL',\n",
              " 'Nb of sec with 1250B < Vol UL < 6250B',\n",
              " 'Nb of sec with 31250B < Vol DL < 125000B',\n",
              " 'Nb of sec with 37500B < Vol UL',\n",
              " 'Nb of sec with 6250B < Vol DL < 31250B',\n",
              " 'Nb of sec with 6250B < Vol UL < 37500B',\n",
              " 'Nb of sec with Vol DL < 6250B',\n",
              " 'Nb of sec with Vol UL < 1250B',\n",
              " 'Social Media DL (Bytes)',\n",
              " 'Social Media UL (Bytes)',\n",
              " 'Google DL (Bytes)',\n",
              " 'Google UL (Bytes)',\n",
              " 'Email DL (Bytes)',\n",
              " 'Email UL (Bytes)',\n",
              " 'Youtube DL (Bytes)',\n",
              " 'Youtube UL (Bytes)',\n",
              " 'Netflix DL (Bytes)',\n",
              " 'Netflix UL (Bytes)',\n",
              " 'Gaming DL (Bytes)',\n",
              " 'Gaming UL (Bytes)',\n",
              " 'Other DL (Bytes)',\n",
              " 'Other UL (Bytes)',\n",
              " 'Total UL (Bytes)',\n",
              " 'Total DL (Bytes)']"
            ]
          },
          "metadata": {
            "tags": []
          },
          "execution_count": 19
        }
      ]
    },
    {
      "cell_type": "markdown",
      "metadata": {
        "id": "Itv1EjPKgzC6"
      },
      "source": [
        ""
      ]
    },
    {
      "cell_type": "code",
      "metadata": {
        "colab": {
          "base_uri": "https://localhost:8080/"
        },
        "id": "oJZ4R9vMzc_1",
        "outputId": "088839d9-0f34-4f21-9029-66c3a2aea039"
      },
      "source": [
        "# number of data points\n",
        "print(f\" There are {df.shape[0]} rows and {df.shape[1]} columns\")"
      ],
      "execution_count": 20,
      "outputs": [
        {
          "output_type": "stream",
          "text": [
            " There are 150001 rows and 55 columns\n"
          ],
          "name": "stdout"
        }
      ]
    },
    {
      "cell_type": "markdown",
      "metadata": {
        "id": "zKqdCb-szz1l"
      },
      "source": [
        "**Handling Missing values**\n",
        "Missing values are misslead our conclusion so we have to omit the datas(rows and columns with much missing values).\n"
      ]
    },
    {
      "cell_type": "code",
      "metadata": {
        "colab": {
          "base_uri": "https://localhost:8080/"
        },
        "id": "67977677",
        "outputId": "9aa2c76f-8fd7-43a8-e96b-5f139a7c3069"
      },
      "source": [
        "# how many missing values exist or better still what is the % of missing values in the dataset?\n",
        "def percent_missing(df):\n",
        "\n",
        "    # Calculate total number of cells in dataframe\n",
        "    totalCells = np.product(df.shape)\n",
        "\n",
        "    # Count number of missing values per column\n",
        "    missingCount = df.isnull().sum()\n",
        "\n",
        "    # Calculate total number of missing values\n",
        "    totalMissing = missingCount.sum()\n",
        "\n",
        "    # Calculate percentage of missing values\n",
        "    print(\"The Telecom dataset contains\", round(((totalMissing/totalCells) * 100), 2), \"%\", \"missing values.\")\n",
        "\n",
        "percent_missing(df)"
      ],
      "execution_count": 21,
      "outputs": [
        {
          "output_type": "stream",
          "text": [
            "The Telecom dataset contains 12.5 % missing values.\n"
          ],
          "name": "stdout"
        }
      ]
    },
    {
      "cell_type": "code",
      "metadata": {
        "colab": {
          "base_uri": "https://localhost:8080/"
        },
        "id": "cXBO99iu2Rzl",
        "outputId": "c3cff8a8-25e0-4041-b9b4-226757f0297a"
      },
      "source": [
        "# Now which column(s) has missing values\n",
        "df.isna().sum()"
      ],
      "execution_count": 22,
      "outputs": [
        {
          "output_type": "execute_result",
          "data": {
            "text/plain": [
              "Bearer Id                                      991\n",
              "Start                                            1\n",
              "Start ms                                         1\n",
              "End                                              1\n",
              "End ms                                           1\n",
              "Dur. (ms)                                        1\n",
              "IMSI                                           570\n",
              "MSISDN/Number                                 1066\n",
              "IMEI                                           572\n",
              "Last Location Name                            1153\n",
              "Avg RTT DL (ms)                              27829\n",
              "Avg RTT UL (ms)                              27812\n",
              "Avg Bearer TP DL (kbps)                          1\n",
              "Avg Bearer TP UL (kbps)                          1\n",
              "TCP DL Retrans. Vol (Bytes)                  88146\n",
              "TCP UL Retrans. Vol (Bytes)                  96649\n",
              "DL TP < 50 Kbps (%)                            754\n",
              "50 Kbps < DL TP < 250 Kbps (%)                 754\n",
              "250 Kbps < DL TP < 1 Mbps (%)                  754\n",
              "DL TP > 1 Mbps (%)                             754\n",
              "UL TP < 10 Kbps (%)                            792\n",
              "10 Kbps < UL TP < 50 Kbps (%)                  792\n",
              "50 Kbps < UL TP < 300 Kbps (%)                 792\n",
              "UL TP > 300 Kbps (%)                           792\n",
              "HTTP DL (Bytes)                              81474\n",
              "HTTP UL (Bytes)                              81810\n",
              "Activity Duration DL (ms)                        1\n",
              "Activity Duration UL (ms)                        1\n",
              "Dur. (ms).1                                      1\n",
              "Handset Manufacturer                           572\n",
              "Handset Type                                   572\n",
              "Nb of sec with 125000B < Vol DL              97538\n",
              "Nb of sec with 1250B < Vol UL < 6250B        92894\n",
              "Nb of sec with 31250B < Vol DL < 125000B     93586\n",
              "Nb of sec with 37500B < Vol UL              130254\n",
              "Nb of sec with 6250B < Vol DL < 31250B       88317\n",
              "Nb of sec with 6250B < Vol UL < 37500B      111843\n",
              "Nb of sec with Vol DL < 6250B                  755\n",
              "Nb of sec with Vol UL < 1250B                  793\n",
              "Social Media DL (Bytes)                          0\n",
              "Social Media UL (Bytes)                          0\n",
              "Google DL (Bytes)                                0\n",
              "Google UL (Bytes)                                0\n",
              "Email DL (Bytes)                                 0\n",
              "Email UL (Bytes)                                 0\n",
              "Youtube DL (Bytes)                               0\n",
              "Youtube UL (Bytes)                               0\n",
              "Netflix DL (Bytes)                               0\n",
              "Netflix UL (Bytes)                               0\n",
              "Gaming DL (Bytes)                                0\n",
              "Gaming UL (Bytes)                                0\n",
              "Other DL (Bytes)                                 0\n",
              "Other UL (Bytes)                                 0\n",
              "Total UL (Bytes)                                 1\n",
              "Total DL (Bytes)                                 1\n",
              "dtype: int64"
            ]
          },
          "metadata": {
            "tags": []
          },
          "execution_count": 22
        }
      ]
    },
    {
      "cell_type": "markdown",
      "metadata": {
        "id": "LRXXkanq34FA"
      },
      "source": [
        "**Drop columns with many missing values >30%**\n",
        "ex.\n",
        "\n",
        "1.   Nb of sec with 6250B < Vol DL < 31250B\n",
        "2.   Nb of sec with 6250B < Vol UL < 37500B etc...\n",
        "\n"
      ]
    },
    {
      "cell_type": "code",
      "metadata": {
        "id": "-92RvDgS4NUy"
      },
      "source": [
        "df_clean = df.drop(['Avg RTT UL (ms)', 'Avg RTT DL (ms)', 'TCP DL Retrans. Vol (Bytes)', 'TCP UL Retrans. Vol (Bytes)', 'HTTP DL (Bytes)','Nb of sec with 125000B < Vol DL','Nb of sec with 1250B < Vol UL < 6250B','Nb of sec with 31250B < Vol DL < 125000B','Nb of sec with 37500B < Vol UL','Nb of sec with 6250B < Vol DL < 31250B','Nb of sec with 6250B < Vol UL < 37500B'], axis=1)"
      ],
      "execution_count": 25,
      "outputs": []
    },
    {
      "cell_type": "code",
      "metadata": {
        "colab": {
          "base_uri": "https://localhost:8080/"
        },
        "id": "VEtuj2Xw8J9j",
        "outputId": "fba9af7b-b68b-4843-f570-0af48f7dce24"
      },
      "source": [
        "df_clean.shape"
      ],
      "execution_count": 26,
      "outputs": [
        {
          "output_type": "execute_result",
          "data": {
            "text/plain": [
              "(150001, 44)"
            ]
          },
          "metadata": {
            "tags": []
          },
          "execution_count": 26
        }
      ]
    },
    {
      "cell_type": "markdown",
      "metadata": {
        "id": "96uX6P4g8k2-"
      },
      "source": [
        "From 55 column own to 44 we drop 11 columns with much null values.\n",
        "There is one big question raised that is why choose dropping rather than filling? my answer is the columns are not much worthy in doing my analysis based on the given topic.and null values above 30%.\n"
      ]
    },
    {
      "cell_type": "code",
      "metadata": {
        "colab": {
          "base_uri": "https://localhost:8080/"
        },
        "id": "SaXS5A_QGHp-",
        "outputId": "6ac3be82-92ca-4ac1-984e-6ca318d2af69"
      },
      "source": [
        "#We will also remove data points without customer numbers(MSISDN/Number).This is because these kind of datas usually provide insights of little value.\n",
        "db = df_clean[df_clean['MSISDN/Number'].notna()]\n",
        "print(db)"
      ],
      "execution_count": 28,
      "outputs": [
        {
          "output_type": "stream",
          "text": [
            "           Bearer Id            Start  ...  Total UL (Bytes) Total DL (Bytes)\n",
            "0       1.310000e+19   4/4/2019 12:01  ...        36749741.0      308879636.0\n",
            "1       1.310000e+19   4/9/2019 13:04  ...        53800391.0      653384965.0\n",
            "2       1.310000e+19   4/9/2019 17:42  ...        27883638.0      279807335.0\n",
            "3       1.310000e+19   4/10/2019 0:31  ...        43324218.0      846028530.0\n",
            "4       1.310000e+19  4/12/2019 20:10  ...        38542814.0      569138589.0\n",
            "...              ...              ...  ...               ...              ...\n",
            "149995  1.300000e+19   4/29/2019 7:28  ...        53745392.0      819016468.0\n",
            "149996  7.280000e+18   4/29/2019 7:28  ...        57628851.0      574175259.0\n",
            "149997  7.350000e+18   4/29/2019 7:28  ...        39135081.0      666648844.0\n",
            "149998  1.310000e+19   4/29/2019 7:28  ...        34912224.0      592786405.0\n",
            "149999  1.310000e+19   4/29/2019 7:28  ...        29626096.0      371895920.0\n",
            "\n",
            "[148935 rows x 44 columns]\n"
          ],
          "name": "stdout"
        }
      ]
    },
    {
      "cell_type": "markdown",
      "metadata": {
        "id": "Im0a_XY5J-q7"
      },
      "source": [
        "\n",
        "# Task 1"
      ]
    },
    {
      "cell_type": "markdown",
      "metadata": {
        "id": "iOmkFqF-Kc6D"
      },
      "source": [
        "# User Overview analysis"
      ]
    },
    {
      "cell_type": "markdown",
      "metadata": {
        "id": "VAsO3S9kK7Nc"
      },
      "source": [
        "\n",
        "*   Start by identifying the top 10 handsets used by the customers.\n",
        "*   Then, identify the top 3 handset manufacturers\n",
        "*   Next, identify the top 5 handsets per top 3 handset manufacturer List item\n",
        "*   Make a short interpretation and recommendation to marketing teams\n",
        "\n"
      ]
    },
    {
      "cell_type": "code",
      "metadata": {
        "colab": {
          "base_uri": "https://localhost:8080/"
        },
        "id": "4EllZtTdKlij",
        "outputId": "0088bf2c-5da7-46d3-9c0f-5a69e35b2dd5"
      },
      "source": [
        "#Top-ten hansets used by customers.\n",
        "handsets=db['Handset Type']\n",
        "handsets=handsets[handsets!='undefined']\n",
        "handsets.value_counts().nlargest(10)"
      ],
      "execution_count": 29,
      "outputs": [
        {
          "output_type": "execute_result",
          "data": {
            "text/plain": [
              "Huawei B528S-23A                19727\n",
              "Apple iPhone 6S (A1688)          9413\n",
              "Apple iPhone 6 (A1586)           9012\n",
              "Apple iPhone 7 (A1778)           6304\n",
              "Apple iPhone Se (A1723)          5176\n",
              "Apple iPhone 8 (A1905)           4985\n",
              "Apple iPhone Xr (A2105)          4562\n",
              "Samsung Galaxy S8 (Sm-G950F)     4480\n",
              "Apple iPhone X (A1901)           3810\n",
              "Samsung Galaxy A5 Sm-A520F       3708\n",
              "Name: Handset Type, dtype: int64"
            ]
          },
          "metadata": {
            "tags": []
          },
          "execution_count": 29
        }
      ]
    },
    {
      "cell_type": "code",
      "metadata": {
        "colab": {
          "base_uri": "https://localhost:8080/"
        },
        "id": "RqwY8ZFRMcCn",
        "outputId": "e0a17740-4532-41b6-b4a1-3bbf40e3f50d"
      },
      "source": [
        "#Top-three hansets manufacturers\n",
        "handsetmanufacturer=db['Handset Manufacturer']\n",
        "handsetmanufacturer=handsetmanufacturer[handsetmanufacturer!='undefined']\n",
        "df_man=handsetmanufacturer.value_counts().nlargest(3)\n",
        "df_man"
      ],
      "execution_count": 30,
      "outputs": [
        {
          "output_type": "execute_result",
          "data": {
            "text/plain": [
              "Apple      59464\n",
              "Samsung    40579\n",
              "Huawei     34366\n",
              "Name: Handset Manufacturer, dtype: int64"
            ]
          },
          "metadata": {
            "tags": []
          },
          "execution_count": 30
        }
      ]
    },
    {
      "cell_type": "code",
      "metadata": {
        "colab": {
          "base_uri": "https://localhost:8080/"
        },
        "id": "qeVjDwx0O0TH",
        "outputId": "e08b41e3-580b-4d8c-f1b8-ca98fd24882a"
      },
      "source": [
        "#top 5 handsets per top 3 handset manufacturer(by Apple handset Manufacturer)\n",
        "by_manufacturer = db.groupby(['Handset Manufacturer'])\n",
        "\n",
        "by_manufacturer.get_group('Apple')['Handset Type'].value_counts().nlargest(5) "
      ],
      "execution_count": 31,
      "outputs": [
        {
          "output_type": "execute_result",
          "data": {
            "text/plain": [
              "Apple iPhone 6S (A1688)    9413\n",
              "Apple iPhone 6 (A1586)     9012\n",
              "Apple iPhone 7 (A1778)     6304\n",
              "Apple iPhone Se (A1723)    5176\n",
              "Apple iPhone 8 (A1905)     4985\n",
              "Name: Handset Type, dtype: int64"
            ]
          },
          "metadata": {
            "tags": []
          },
          "execution_count": 31
        }
      ]
    },
    {
      "cell_type": "code",
      "metadata": {
        "colab": {
          "base_uri": "https://localhost:8080/"
        },
        "id": "3sHZLjg8PkOl",
        "outputId": "ce401e1e-e3d2-4190-f6f7-77a49ee835b3"
      },
      "source": [
        "#top 5 handsets per top 3 handset manufacturer(by Samsung handset Manufacturer)\n",
        "by_manufacturer.get_group('Samsung')['Handset Type'].value_counts().nlargest(5)"
      ],
      "execution_count": 32,
      "outputs": [
        {
          "output_type": "execute_result",
          "data": {
            "text/plain": [
              "Samsung Galaxy S8 (Sm-G950F)    4480\n",
              "Samsung Galaxy A5 Sm-A520F      3708\n",
              "Samsung Galaxy J5 (Sm-J530)     3682\n",
              "Samsung Galaxy J3 (Sm-J330)     3464\n",
              "Samsung Galaxy S7 (Sm-G930X)    3176\n",
              "Name: Handset Type, dtype: int64"
            ]
          },
          "metadata": {
            "tags": []
          },
          "execution_count": 32
        }
      ]
    },
    {
      "cell_type": "code",
      "metadata": {
        "colab": {
          "base_uri": "https://localhost:8080/"
        },
        "id": "As-nvSVvQDzu",
        "outputId": "51dfccf9-f2b4-42b1-e05b-73a6317b4f02"
      },
      "source": [
        "#top 5 handsets per top 3 handset manufacturer(by Huawei handset Manufacturer)\n",
        "by_manufacturer.get_group('Huawei')['Handset Type'].value_counts().nlargest(5)"
      ],
      "execution_count": 33,
      "outputs": [
        {
          "output_type": "execute_result",
          "data": {
            "text/plain": [
              "Huawei B528S-23A                  19727\n",
              "Huawei E5180                       2074\n",
              "Huawei P20 Lite Huawei Nova 3E     2018\n",
              "Huawei P20                         1479\n",
              "Huawei Y6 2018                      997\n",
              "Name: Handset Type, dtype: int64"
            ]
          },
          "metadata": {
            "tags": []
          },
          "execution_count": 33
        }
      ]
    },
    {
      "cell_type": "markdown",
      "metadata": {
        "id": "82Ciw_KpbFwf"
      },
      "source": [
        "***interpretation and recommendation to marketing teams***\n",
        "\n",
        "=most customers are using the Apple,samsung,huawei products respectively.\n",
        "\n",
        "=The Huawei product Huawei B528S-23A is the widely used Handset Type by customers."
      ]
    },
    {
      "cell_type": "markdown",
      "metadata": {
        "id": "kUgWMXuMdCBB"
      },
      "source": [
        "# Task **1.1**"
      ]
    },
    {
      "cell_type": "markdown",
      "metadata": {
        "id": "6tXCR4Y-d6-z"
      },
      "source": [
        "user behavior can be tracked through the following applications: Social Media, Google,\n",
        "Email, Youtube, Netflix, Gaming, Other ."
      ]
    },
    {
      "cell_type": "markdown",
      "metadata": {
        "id": "PfLdtASAhclb"
      },
      "source": [
        "In this part of the code we will make the data points drawn from the file formatted in way that enables analysis.This includes\n",
        "\n",
        "-Combining related data like adding Upload and Download bytes for each\n",
        "Application.\n",
        "\n",
        "-Cleaning data of outliers as done by the function clean()(also removing NaN values)\n",
        "\n",
        "-Collecting the cleaned data into a Dataframe(I have named it ***regression*** because it will be fitting later)"
      ]
    },
    {
      "cell_type": "code",
      "metadata": {
        "colab": {
          "base_uri": "https://localhost:8080/",
          "height": 419
        },
        "id": "pgcqYZVx_XS7",
        "outputId": "5d3dad75-a266-4b85-9cbe-266347049531"
      },
      "source": [
        "import seaborn as sns\n",
        "sns.set()\n",
        "import warnings\n",
        "warnings.filterwarnings('ignore')\n",
        "regre=db[['Social Media DL (Bytes)','Social Media UL (Bytes)','Google DL (Bytes)','Google UL (Bytes)','Email DL (Bytes)',\n",
        "         'Email UL (Bytes)','Youtube DL (Bytes)','Youtube UL (Bytes)','Netflix DL (Bytes)','Netflix UL (Bytes)',\n",
        "          'Gaming DL (Bytes)','Gaming UL (Bytes)','Other DL (Bytes)','Other UL (Bytes)','Total UL (Bytes)','Total DL (Bytes)']]\n",
        "\n",
        "regre['Social']=regre['Social Media DL (Bytes)'] + regre['Social Media UL (Bytes)']\n",
        "regre['Google']=regre['Google DL (Bytes)'] + regre['Google UL (Bytes)']\n",
        "regre['Email']=regre['Email DL (Bytes)'] + regre['Email UL (Bytes)']\n",
        "regre['Youtube']=regre['Youtube DL (Bytes)'] + regre['Youtube UL (Bytes)']\n",
        "regre['Netflix']=regre['Netflix DL (Bytes)'] + regre['Netflix UL (Bytes)']\n",
        "regre['Gaming']=regre['Gaming DL (Bytes)'] + regre['Gaming UL (Bytes)']\n",
        "regre['Other']=regre['Other DL (Bytes)'] + regre['Other UL (Bytes)']\n",
        "regre['Total']=regre['Total UL (Bytes)'] + regre['Total DL (Bytes)']\n",
        "temp =db[['MSISDN/Number']]\n",
        "task_1_1  = pd.concat([db[['MSISDN/Number']], regre['Social'],regre['Google'],regre['Email'],regre['Youtube'],\n",
        "                       regre['Netflix'],regre['Gaming'],regre['Other'],regre['Total']], axis=1)\n",
        "\n",
        "def clean(x1):\n",
        "   \n",
        "    x1 = x1[x1.between(x1.quantile(.15), x1.quantile(.75))] \n",
        "    \n",
        "    x1.fillna(x1.mean())\n",
        "   \n",
        "    y1=pd.DataFrame(x1)\n",
        "    y1.reset_index(drop=True, inplace=True)\n",
        "   \n",
        "    return y1\n",
        "\n",
        "\n",
        "\n",
        "social=clean(regre['Social'])\n",
        "Google=clean(regre['Google'])\n",
        "Email=clean(regre['Email'])\n",
        "Youtube=clean(regre['Youtube'])\n",
        "Netflix=clean(regre['Netflix'])\n",
        "Gaming=clean(regre['Gaming'])\n",
        "Other=clean(regre['Other'])\n",
        "Total=clean(regre['Total'])\n",
        "\n",
        "\n",
        "\n",
        "\n",
        "regression =pd.concat([social,Google,Youtube,Netflix,Gaming,Other,Total],axis=1)\n",
        "\n",
        "regression\n"
      ],
      "execution_count": 34,
      "outputs": [
        {
          "output_type": "execute_result",
          "data": {
            "text/html": [
              "<div>\n",
              "<style scoped>\n",
              "    .dataframe tbody tr th:only-of-type {\n",
              "        vertical-align: middle;\n",
              "    }\n",
              "\n",
              "    .dataframe tbody tr th {\n",
              "        vertical-align: top;\n",
              "    }\n",
              "\n",
              "    .dataframe thead th {\n",
              "        text-align: right;\n",
              "    }\n",
              "</style>\n",
              "<table border=\"1\" class=\"dataframe\">\n",
              "  <thead>\n",
              "    <tr style=\"text-align: right;\">\n",
              "      <th></th>\n",
              "      <th>Social</th>\n",
              "      <th>Google</th>\n",
              "      <th>Youtube</th>\n",
              "      <th>Netflix</th>\n",
              "      <th>Gaming</th>\n",
              "      <th>Other</th>\n",
              "      <th>Total</th>\n",
              "    </tr>\n",
              "  </thead>\n",
              "  <tbody>\n",
              "    <tr>\n",
              "      <th>0</th>\n",
              "      <td>1570185.0</td>\n",
              "      <td>4414096.0</td>\n",
              "      <td>18355943.0</td>\n",
              "      <td>17855187.0</td>\n",
              "      <td>292426453.0</td>\n",
              "      <td>180558843.0</td>\n",
              "      <td>345629377.0</td>\n",
              "    </tr>\n",
              "    <tr>\n",
              "      <th>1</th>\n",
              "      <td>1933278.0</td>\n",
              "      <td>10229119.0</td>\n",
              "      <td>23944031.0</td>\n",
              "      <td>23751202.0</td>\n",
              "      <td>609920783.0</td>\n",
              "      <td>541959383.0</td>\n",
              "      <td>307690973.0</td>\n",
              "    </tr>\n",
              "    <tr>\n",
              "      <th>2</th>\n",
              "      <td>1726277.0</td>\n",
              "      <td>7748843.0</td>\n",
              "      <td>22911539.0</td>\n",
              "      <td>15092588.0</td>\n",
              "      <td>229980251.0</td>\n",
              "      <td>414908351.0</td>\n",
              "      <td>607681403.0</td>\n",
              "    </tr>\n",
              "    <tr>\n",
              "      <th>3</th>\n",
              "      <td>657493.0</td>\n",
              "      <td>4906872.0</td>\n",
              "      <td>21981135.0</td>\n",
              "      <td>17539799.0</td>\n",
              "      <td>531237049.0</td>\n",
              "      <td>564619822.0</td>\n",
              "      <td>651527183.0</td>\n",
              "    </tr>\n",
              "    <tr>\n",
              "      <th>4</th>\n",
              "      <td>912788.0</td>\n",
              "      <td>3872713.0</td>\n",
              "      <td>19623308.0</td>\n",
              "      <td>13881809.0</td>\n",
              "      <td>574923841.0</td>\n",
              "      <td>545316477.0</td>\n",
              "      <td>568809782.0</td>\n",
              "    </tr>\n",
              "    <tr>\n",
              "      <th>...</th>\n",
              "      <td>...</td>\n",
              "      <td>...</td>\n",
              "      <td>...</td>\n",
              "      <td>...</td>\n",
              "      <td>...</td>\n",
              "      <td>...</td>\n",
              "      <td>...</td>\n",
              "    </tr>\n",
              "    <tr>\n",
              "      <th>89355</th>\n",
              "      <td>892867.0</td>\n",
              "      <td>7283344.0</td>\n",
              "      <td>24553645.0</td>\n",
              "      <td>18411806.0</td>\n",
              "      <td>571286842.0</td>\n",
              "      <td>412079886.0</td>\n",
              "      <td>666947481.0</td>\n",
              "    </tr>\n",
              "    <tr>\n",
              "      <th>89356</th>\n",
              "      <td>993175.0</td>\n",
              "      <td>8922614.0</td>\n",
              "      <td>27955095.0</td>\n",
              "      <td>13742615.0</td>\n",
              "      <td>535806880.0</td>\n",
              "      <td>633549896.0</td>\n",
              "      <td>631804110.0</td>\n",
              "    </tr>\n",
              "    <tr>\n",
              "      <th>89357</th>\n",
              "      <td>2352181.0</td>\n",
              "      <td>4415361.0</td>\n",
              "      <td>22165518.0</td>\n",
              "      <td>28354119.0</td>\n",
              "      <td>631628095.0</td>\n",
              "      <td>263493166.0</td>\n",
              "      <td>705783925.0</td>\n",
              "    </tr>\n",
              "    <tr>\n",
              "      <th>89358</th>\n",
              "      <td>1260239.0</td>\n",
              "      <td>6585469.0</td>\n",
              "      <td>24516413.0</td>\n",
              "      <td>15029702.0</td>\n",
              "      <td>566933800.0</td>\n",
              "      <td>179348636.0</td>\n",
              "      <td>627698629.0</td>\n",
              "    </tr>\n",
              "    <tr>\n",
              "      <th>89359</th>\n",
              "      <td>823109.0</td>\n",
              "      <td>7757267.0</td>\n",
              "      <td>17122508.0</td>\n",
              "      <td>16494842.0</td>\n",
              "      <td>355066446.0</td>\n",
              "      <td>336273648.0</td>\n",
              "      <td>401522016.0</td>\n",
              "    </tr>\n",
              "  </tbody>\n",
              "</table>\n",
              "<p>89360 rows × 7 columns</p>\n",
              "</div>"
            ],
            "text/plain": [
              "          Social      Google     Youtube  ...       Gaming        Other        Total\n",
              "0      1570185.0   4414096.0  18355943.0  ...  292426453.0  180558843.0  345629377.0\n",
              "1      1933278.0  10229119.0  23944031.0  ...  609920783.0  541959383.0  307690973.0\n",
              "2      1726277.0   7748843.0  22911539.0  ...  229980251.0  414908351.0  607681403.0\n",
              "3       657493.0   4906872.0  21981135.0  ...  531237049.0  564619822.0  651527183.0\n",
              "4       912788.0   3872713.0  19623308.0  ...  574923841.0  545316477.0  568809782.0\n",
              "...          ...         ...         ...  ...          ...          ...          ...\n",
              "89355   892867.0   7283344.0  24553645.0  ...  571286842.0  412079886.0  666947481.0\n",
              "89356   993175.0   8922614.0  27955095.0  ...  535806880.0  633549896.0  631804110.0\n",
              "89357  2352181.0   4415361.0  22165518.0  ...  631628095.0  263493166.0  705783925.0\n",
              "89358  1260239.0   6585469.0  24516413.0  ...  566933800.0  179348636.0  627698629.0\n",
              "89359   823109.0   7757267.0  17122508.0  ...  355066446.0  336273648.0  401522016.0\n",
              "\n",
              "[89360 rows x 7 columns]"
            ]
          },
          "metadata": {
            "tags": []
          },
          "execution_count": 34
        }
      ]
    },
    {
      "cell_type": "markdown",
      "metadata": {
        "id": "E716_rM7d9sT"
      },
      "source": [
        "Aggregate per user the following information in the column\n",
        "*  number of xDR sessions\n",
        "*  Session duration\n",
        "*  the total download (DL) and upload (UL) data\n",
        "*  the total data volume (in Bytes) during this session for each application"
      ]
    },
    {
      "cell_type": "code",
      "metadata": {
        "colab": {
          "base_uri": "https://localhost:8080/",
          "height": 450
        },
        "id": "vroOn_hk_XTi",
        "outputId": "673a43de-c9e3-448b-8620-7a0a929d0005"
      },
      "source": [
        "task_1_1 = db.groupby('MSISDN/Number').agg(Total_xDR=('Dur. (ms)', 'sum'), \n",
        " number_of_xDR_sessions=('Bearer Id', 'count'),Total_DL=('Total DL (Bytes)', 'sum'),Total_UL=('Total UL (Bytes)', 'sum')) \n",
        "task_1_1['total_data_volume_(in Bytes)'] = task_1_1['Total_DL'] + task_1_1['Total_UL'] \n",
        "task_1_1\n",
        "\n"
      ],
      "execution_count": 35,
      "outputs": [
        {
          "output_type": "execute_result",
          "data": {
            "text/html": [
              "<div>\n",
              "<style scoped>\n",
              "    .dataframe tbody tr th:only-of-type {\n",
              "        vertical-align: middle;\n",
              "    }\n",
              "\n",
              "    .dataframe tbody tr th {\n",
              "        vertical-align: top;\n",
              "    }\n",
              "\n",
              "    .dataframe thead th {\n",
              "        text-align: right;\n",
              "    }\n",
              "</style>\n",
              "<table border=\"1\" class=\"dataframe\">\n",
              "  <thead>\n",
              "    <tr style=\"text-align: right;\">\n",
              "      <th></th>\n",
              "      <th>Total_xDR</th>\n",
              "      <th>number_of_xDR_sessions</th>\n",
              "      <th>Total_DL</th>\n",
              "      <th>Total_UL</th>\n",
              "      <th>total_data_volume_(in Bytes)</th>\n",
              "    </tr>\n",
              "    <tr>\n",
              "      <th>MSISDN/Number</th>\n",
              "      <th></th>\n",
              "      <th></th>\n",
              "      <th></th>\n",
              "      <th></th>\n",
              "      <th></th>\n",
              "    </tr>\n",
              "  </thead>\n",
              "  <tbody>\n",
              "    <tr>\n",
              "      <th>3.360100e+10</th>\n",
              "      <td>116720.0</td>\n",
              "      <td>1</td>\n",
              "      <td>8.426375e+08</td>\n",
              "      <td>36053108.0</td>\n",
              "      <td>8.786906e+08</td>\n",
              "    </tr>\n",
              "    <tr>\n",
              "      <th>3.360100e+10</th>\n",
              "      <td>181230.0</td>\n",
              "      <td>1</td>\n",
              "      <td>1.207552e+08</td>\n",
              "      <td>36104459.0</td>\n",
              "      <td>1.568596e+08</td>\n",
              "    </tr>\n",
              "    <tr>\n",
              "      <th>3.360100e+10</th>\n",
              "      <td>134969.0</td>\n",
              "      <td>1</td>\n",
              "      <td>5.566597e+08</td>\n",
              "      <td>39306820.0</td>\n",
              "      <td>5.959665e+08</td>\n",
              "    </tr>\n",
              "    <tr>\n",
              "      <th>3.360101e+10</th>\n",
              "      <td>49878.0</td>\n",
              "      <td>1</td>\n",
              "      <td>4.019932e+08</td>\n",
              "      <td>20327526.0</td>\n",
              "      <td>4.223207e+08</td>\n",
              "    </tr>\n",
              "    <tr>\n",
              "      <th>3.360101e+10</th>\n",
              "      <td>37104.0</td>\n",
              "      <td>2</td>\n",
              "      <td>1.363130e+09</td>\n",
              "      <td>94280527.0</td>\n",
              "      <td>1.457411e+09</td>\n",
              "    </tr>\n",
              "    <tr>\n",
              "      <th>...</th>\n",
              "      <td>...</td>\n",
              "      <td>...</td>\n",
              "      <td>...</td>\n",
              "      <td>...</td>\n",
              "      <td>...</td>\n",
              "    </tr>\n",
              "    <tr>\n",
              "      <th>3.379000e+10</th>\n",
              "      <td>8810.0</td>\n",
              "      <td>1</td>\n",
              "      <td>6.879252e+08</td>\n",
              "      <td>26716429.0</td>\n",
              "      <td>7.146416e+08</td>\n",
              "    </tr>\n",
              "    <tr>\n",
              "      <th>3.379000e+10</th>\n",
              "      <td>140988.0</td>\n",
              "      <td>1</td>\n",
              "      <td>4.445751e+08</td>\n",
              "      <td>35732243.0</td>\n",
              "      <td>4.803073e+08</td>\n",
              "    </tr>\n",
              "    <tr>\n",
              "      <th>3.197020e+12</th>\n",
              "      <td>877385.0</td>\n",
              "      <td>1</td>\n",
              "      <td>1.948281e+08</td>\n",
              "      <td>37295915.0</td>\n",
              "      <td>2.321240e+08</td>\n",
              "    </tr>\n",
              "    <tr>\n",
              "      <th>3.370000e+14</th>\n",
              "      <td>253030.0</td>\n",
              "      <td>1</td>\n",
              "      <td>5.396350e+08</td>\n",
              "      <td>56652839.0</td>\n",
              "      <td>5.962878e+08</td>\n",
              "    </tr>\n",
              "    <tr>\n",
              "      <th>8.823970e+14</th>\n",
              "      <td>869844.0</td>\n",
              "      <td>1</td>\n",
              "      <td>7.869760e+07</td>\n",
              "      <td>60456049.0</td>\n",
              "      <td>1.391536e+08</td>\n",
              "    </tr>\n",
              "  </tbody>\n",
              "</table>\n",
              "<p>106856 rows × 5 columns</p>\n",
              "</div>"
            ],
            "text/plain": [
              "               Total_xDR  ...  total_data_volume_(in Bytes)\n",
              "MSISDN/Number             ...                              \n",
              "3.360100e+10    116720.0  ...                  8.786906e+08\n",
              "3.360100e+10    181230.0  ...                  1.568596e+08\n",
              "3.360100e+10    134969.0  ...                  5.959665e+08\n",
              "3.360101e+10     49878.0  ...                  4.223207e+08\n",
              "3.360101e+10     37104.0  ...                  1.457411e+09\n",
              "...                  ...  ...                           ...\n",
              "3.379000e+10      8810.0  ...                  7.146416e+08\n",
              "3.379000e+10    140988.0  ...                  4.803073e+08\n",
              "3.197020e+12    877385.0  ...                  2.321240e+08\n",
              "3.370000e+14    253030.0  ...                  5.962878e+08\n",
              "8.823970e+14    869844.0  ...                  1.391536e+08\n",
              "\n",
              "[106856 rows x 5 columns]"
            ]
          },
          "metadata": {
            "tags": []
          },
          "execution_count": 35
        }
      ]
    },
    {
      "cell_type": "code",
      "metadata": {
        "id": "-xHAc81ReGfa"
      },
      "source": [
        ""
      ],
      "execution_count": null,
      "outputs": []
    },
    {
      "cell_type": "markdown",
      "metadata": {
        "id": "ovhSnmf2G1ZQ"
      },
      "source": [
        "#Task 1.2"
      ]
    },
    {
      "cell_type": "code",
      "metadata": {
        "colab": {
          "base_uri": "https://localhost:8080/"
        },
        "id": "jA4UGxkfIC1F",
        "outputId": "a0d9649a-27ba-46b7-d4d2-9f7046f495ff"
      },
      "source": [
        "#Mean....Also mean is nongraphical univariant analyse despersion parameter.\n",
        "df_mean=task_1_1.mean()\n",
        "df_mean"
      ],
      "execution_count": 36,
      "outputs": [
        {
          "output_type": "execute_result",
          "data": {
            "text/plain": [
              "Total_xDR                       1.461672e+05\n",
              "number_of_xDR_sessions          1.389777e+00\n",
              "Total_DL                        6.336527e+08\n",
              "Total_UL                        5.730942e+07\n",
              "total_data_volume_(in Bytes)    6.909621e+08\n",
              "dtype: float64"
            ]
          },
          "metadata": {
            "tags": []
          },
          "execution_count": 36
        }
      ]
    },
    {
      "cell_type": "code",
      "metadata": {
        "colab": {
          "base_uri": "https://localhost:8080/"
        },
        "id": "xTfqe2UriUcK",
        "outputId": "53b987a8-a9a7-46d5-81f3-01f4e8c32948"
      },
      "source": [
        "#Median\n",
        "df_median=task_1_1.median()\n",
        "df_median"
      ],
      "execution_count": 37,
      "outputs": [
        {
          "output_type": "execute_result",
          "data": {
            "text/plain": [
              "Total_xDR                          102740.0\n",
              "number_of_xDR_sessions                  1.0\n",
              "Total_DL                        570367723.0\n",
              "Total_UL                         46793865.5\n",
              "total_data_volume_(in Bytes)    617923138.0\n",
              "dtype: float64"
            ]
          },
          "metadata": {
            "tags": []
          },
          "execution_count": 37
        }
      ]
    },
    {
      "cell_type": "markdown",
      "metadata": {
        "id": "5AYXpm6mu5zu"
      },
      "source": [
        "**Non-graphical univariate Analysis**\n",
        "\n",
        "For each of the above variables describing the customers, report in a table the minimum value, the maximum value, the average, the 1st, 2nd & 3rd quartile "
      ]
    },
    {
      "cell_type": "code",
      "metadata": {
        "colab": {
          "base_uri": "https://localhost:8080/"
        },
        "id": "RjrJWNPmvTse",
        "outputId": "de74000e-02b4-44f4-847b-59c1f0e85e86"
      },
      "source": [
        "#maximum values\n",
        "task_max=task_1_1.max()\n",
        "task_max"
      ],
      "execution_count": 38,
      "outputs": [
        {
          "output_type": "execute_result",
          "data": {
            "text/plain": [
              "Total_xDR                       1.855375e+07\n",
              "number_of_xDR_sessions          1.800000e+01\n",
              "Total_DL                        8.156743e+09\n",
              "Total_UL                        7.295774e+08\n",
              "total_data_volume_(in Bytes)    8.846226e+09\n",
              "dtype: float64"
            ]
          },
          "metadata": {
            "tags": []
          },
          "execution_count": 38
        }
      ]
    },
    {
      "cell_type": "code",
      "metadata": {
        "colab": {
          "base_uri": "https://localhost:8080/"
        },
        "id": "73ShxFcE3Xqv",
        "outputId": "474d427e-cce4-4350-f2b3-d75d7140598d"
      },
      "source": [
        "#minimum values\n",
        "task_min=task_1_1.min()\n",
        "task_min"
      ],
      "execution_count": 39,
      "outputs": [
        {
          "output_type": "execute_result",
          "data": {
            "text/plain": [
              "Total_xDR                           7142.0\n",
              "number_of_xDR_sessions                 0.0\n",
              "Total_DL                         8827082.0\n",
              "Total_UL                         2866892.0\n",
              "total_data_volume_(in Bytes)    33249009.0\n",
              "dtype: float64"
            ]
          },
          "metadata": {
            "tags": []
          },
          "execution_count": 39
        }
      ]
    },
    {
      "cell_type": "code",
      "metadata": {
        "colab": {
          "base_uri": "https://localhost:8080/"
        },
        "id": "Zb0jKNms4A0V",
        "outputId": "22812acf-d9f0-4419-fa14-b0c53c762d2d"
      },
      "source": [
        "#The average\n",
        "task_avg=task_1_1.mean()\n",
        "task_avg"
      ],
      "execution_count": 40,
      "outputs": [
        {
          "output_type": "execute_result",
          "data": {
            "text/plain": [
              "Total_xDR                       1.461672e+05\n",
              "number_of_xDR_sessions          1.389777e+00\n",
              "Total_DL                        6.336527e+08\n",
              "Total_UL                        5.730942e+07\n",
              "total_data_volume_(in Bytes)    6.909621e+08\n",
              "dtype: float64"
            ]
          },
          "metadata": {
            "tags": []
          },
          "execution_count": 40
        }
      ]
    },
    {
      "cell_type": "code",
      "metadata": {
        "colab": {
          "base_uri": "https://localhost:8080/",
          "height": 142
        },
        "id": "tAQbNkWV5aHu",
        "outputId": "444c546d-47e0-4dae-cbaa-6d05a4db66ae"
      },
      "source": [
        "#The Quartile\n",
        "task_Qua=task_1_1.quantile(q=[0.25,0.50, 0.75], axis=0, numeric_only=True, interpolation='midpoint')\n",
        "task_Qua"
      ],
      "execution_count": 41,
      "outputs": [
        {
          "output_type": "execute_result",
          "data": {
            "text/html": [
              "<div>\n",
              "<style scoped>\n",
              "    .dataframe tbody tr th:only-of-type {\n",
              "        vertical-align: middle;\n",
              "    }\n",
              "\n",
              "    .dataframe tbody tr th {\n",
              "        vertical-align: top;\n",
              "    }\n",
              "\n",
              "    .dataframe thead th {\n",
              "        text-align: right;\n",
              "    }\n",
              "</style>\n",
              "<table border=\"1\" class=\"dataframe\">\n",
              "  <thead>\n",
              "    <tr style=\"text-align: right;\">\n",
              "      <th></th>\n",
              "      <th>Total_xDR</th>\n",
              "      <th>number_of_xDR_sessions</th>\n",
              "      <th>Total_DL</th>\n",
              "      <th>Total_UL</th>\n",
              "      <th>total_data_volume_(in Bytes)</th>\n",
              "    </tr>\n",
              "  </thead>\n",
              "  <tbody>\n",
              "    <tr>\n",
              "      <th>0.25</th>\n",
              "      <td>71307.0</td>\n",
              "      <td>1.0</td>\n",
              "      <td>314823939.5</td>\n",
              "      <td>36395412.5</td>\n",
              "      <td>358546845.0</td>\n",
              "    </tr>\n",
              "    <tr>\n",
              "      <th>0.50</th>\n",
              "      <td>102740.0</td>\n",
              "      <td>1.0</td>\n",
              "      <td>570367723.0</td>\n",
              "      <td>46793865.5</td>\n",
              "      <td>617923138.0</td>\n",
              "    </tr>\n",
              "    <tr>\n",
              "      <th>0.75</th>\n",
              "      <td>172799.0</td>\n",
              "      <td>2.0</td>\n",
              "      <td>807366365.5</td>\n",
              "      <td>65732583.0</td>\n",
              "      <td>857435357.5</td>\n",
              "    </tr>\n",
              "  </tbody>\n",
              "</table>\n",
              "</div>"
            ],
            "text/plain": [
              "      Total_xDR  ...  total_data_volume_(in Bytes)\n",
              "0.25    71307.0  ...                   358546845.0\n",
              "0.50   102740.0  ...                   617923138.0\n",
              "0.75   172799.0  ...                   857435357.5\n",
              "\n",
              "[3 rows x 5 columns]"
            ]
          },
          "metadata": {
            "tags": []
          },
          "execution_count": 41
        }
      ]
    },
    {
      "cell_type": "markdown",
      "metadata": {
        "id": "cCTZHq0JMrxx"
      },
      "source": [
        "**Graphical Univariate Analysis** for the duration of a single session can be shown by plotting the data on distplot().\n",
        "\n",
        "Rough estimation of the mean can be done from the figure.\n",
        "\n",
        "The data will be cleaned prior to drawing.This is done through utilizing the lowest quantile and the highest quantile.\n",
        "\n",
        "This will help us visualize the what is the most frequent session duration"
      ]
    },
    {
      "cell_type": "code",
      "metadata": {
        "colab": {
          "base_uri": "https://localhost:8080/",
          "height": 287
        },
        "id": "Mz9VzdOaI7hf",
        "outputId": "73a4551f-9781-4dfb-8952-961aab5718b3"
      },
      "source": [
        "duration=df['Dur. (ms)']\n",
        "\n",
        "x= duration\n",
        "\n",
        "x = x[x.between(x.quantile(.25), x.quantile(.75))] \n",
        "\n",
        "\n",
        "\n",
        "g= sns.distplot(x)"
      ],
      "execution_count": 42,
      "outputs": [
        {
          "output_type": "display_data",
          "data": {
            "image/png": "[encoded data removed]",
            "text/plain": [
              "<Figure size 432x288 with 1 Axes>"
            ]
          },
          "metadata": {
            "tags": []
          }
        }
      ]
    },
    {
      "cell_type": "code",
      "metadata": {
        "colab": {
          "base_uri": "https://localhost:8080/",
          "height": 296
        },
        "id": "tP7FQIn4CTRE",
        "outputId": "9be49c21-29d1-4879-f280-6f850124a77a"
      },
      "source": [
        "number_of_xDR_sessions=df['Bearer Id']\n",
        "\n",
        "x= number_of_xDR_sessions\n",
        "\n",
        "x = x[x.between(x.quantile(.25), x.quantile(.75))] \n",
        "\n",
        "\n",
        "\n",
        "g= sns.distplot(x)"
      ],
      "execution_count": 45,
      "outputs": [
        {
          "output_type": "display_data",
          "data": {
            "image/png": "[encoded data removed]",
            "text/plain": [
              "<Figure size 432x288 with 1 Axes>"
            ]
          },
          "metadata": {
            "tags": []
          }
        }
      ]
    },
    {
      "cell_type": "code",
      "metadata": {
        "colab": {
          "base_uri": "https://localhost:8080/",
          "height": 296
        },
        "id": "ubrQ_L_aJZUY",
        "outputId": "101ba707-8b97-4754-d760-ae47049692c0"
      },
      "source": [
        "Total_Dl=df['Total DL (Bytes)']\n",
        "\n",
        "x= Total_Dl\n",
        "\n",
        "x = x[x.between(x.quantile(.25), x.quantile(.75))] \n",
        "\n",
        "\n",
        "\n",
        "g= sns.distplot(x)"
      ],
      "execution_count": 46,
      "outputs": [
        {
          "output_type": "display_data",
          "data": {
            "image/png": "[encoded data removed]",
            "text/plain": [
              "<Figure size 432x288 with 1 Axes>"
            ]
          },
          "metadata": {
            "tags": []
          }
        }
      ]
    },
    {
      "cell_type": "code",
      "metadata": {
        "colab": {
          "base_uri": "https://localhost:8080/",
          "height": 296
        },
        "id": "_YuzteSUKEzb",
        "outputId": "c05c28a6-7ed0-4985-a984-f1dbf5e94151"
      },
      "source": [
        "Total_Ul=df['Total UL (Bytes)']\n",
        "\n",
        "x= Total_Ul\n",
        "\n",
        "x = x[x.between(x.quantile(.25), x.quantile(.75))] \n",
        "\n",
        "\n",
        "\n",
        "g= sns.distplot(x)"
      ],
      "execution_count": 47,
      "outputs": [
        {
          "output_type": "display_data",
          "data": {
            "image/png": "[encoded data removed]",
            "text/plain": [
              "<Figure size 432x288 with 1 Axes>"
            ]
          },
          "metadata": {
            "tags": []
          }
        }
      ]
    },
    {
      "cell_type": "code",
      "metadata": {
        "id": "Ke45nTZJKq3r"
      },
      "source": [
        ""
      ],
      "execution_count": null,
      "outputs": []
    },
    {
      "cell_type": "markdown",
      "metadata": {
        "id": "mkeUgbDOOFoP"
      },
      "source": [
        "**Bivariate Analysis** – explore the relationship between each application & the\n",
        "total DL+UL data using appropriate methods and interpret your findings."
      ]
    },
    {
      "cell_type": "markdown",
      "metadata": {
        "id": "jgsWuIpwOdsS"
      },
      "source": [
        "The longer the bar for a certain color the pronounced its effect on the Total."
      ]
    },
    {
      "cell_type": "code",
      "metadata": {
        "colab": {
          "base_uri": "https://localhost:8080/",
          "height": 377
        },
        "id": "3hDPMlVBICUp",
        "outputId": "be1e5b19-a6fb-4c3d-fd0c-85f80e8a53ca"
      },
      "source": [
        "lp=regression.sample(50).plot.bar(stacked=True)\n",
        "lp.legend(bbox_to_anchor=(1.02, 1),\n",
        "          loc=2, \n",
        "          borderaxespad=0.0);\n",
        "lp.set(title='Bar plot of Applications', xlabel='Applications', ylabel='Total(UL+DL)')"
      ],
      "execution_count": 48,
      "outputs": [
        {
          "output_type": "execute_result",
          "data": {
            "text/plain": [
              "[Text(0, 0.5, 'Total(UL+DL)'),\n",
              " Text(0.5, 0, 'Applications'),\n",
              " Text(0.5, 1.0, 'Bar plot of Applications')]"
            ]
          },
          "metadata": {
            "tags": []
          },
          "execution_count": 48
        },
        {
          "output_type": "display_data",
          "data": {
            "image/png": "[encoded data removed]",
            "text/plain": [
              "<Figure size 432x288 with 1 Axes>"
            ]
          },
          "metadata": {
            "tags": []
          }
        }
      ]
    },
    {
      "cell_type": "markdown",
      "metadata": {
        "id": "mMHzwvMNIZCP"
      },
      "source": [
        "**Variable transformations** – segment the users into top five decile classes based on the total duration for all sessions and compute the total data (DL+UL) per decile"
      ]
    },
    {
      "cell_type": "code",
      "metadata": {
        "colab": {
          "base_uri": "https://localhost:8080/",
          "height": 235
        },
        "id": "yxrANt9nIpX-",
        "outputId": "92118eb3-e22c-4f7e-fd76-f305ddf372ca"
      },
      "source": [
        "task_1_1\n",
        "\n",
        "task_1_1['Decile_rank'] = pd.qcut(task_1_1['Total_xDR'], 10, duplicates='drop' , labels = False)\n",
        "\n",
        "\n",
        "task_1_2 = task_1_1.groupby('Decile_rank').agg(Total_data=('total_data_volume_(in Bytes)', 'sum'))\n",
        "task_1_2.head()"
      ],
      "execution_count": 49,
      "outputs": [
        {
          "output_type": "execute_result",
          "data": {
            "text/html": [
              "<div>\n",
              "<style scoped>\n",
              "    .dataframe tbody tr th:only-of-type {\n",
              "        vertical-align: middle;\n",
              "    }\n",
              "\n",
              "    .dataframe tbody tr th {\n",
              "        vertical-align: top;\n",
              "    }\n",
              "\n",
              "    .dataframe thead th {\n",
              "        text-align: right;\n",
              "    }\n",
              "</style>\n",
              "<table border=\"1\" class=\"dataframe\">\n",
              "  <thead>\n",
              "    <tr style=\"text-align: right;\">\n",
              "      <th></th>\n",
              "      <th>Total_data</th>\n",
              "    </tr>\n",
              "    <tr>\n",
              "      <th>Decile_rank</th>\n",
              "      <th></th>\n",
              "    </tr>\n",
              "  </thead>\n",
              "  <tbody>\n",
              "    <tr>\n",
              "      <th>0</th>\n",
              "      <td>5.439277e+12</td>\n",
              "    </tr>\n",
              "    <tr>\n",
              "      <th>1</th>\n",
              "      <td>6.109410e+12</td>\n",
              "    </tr>\n",
              "    <tr>\n",
              "      <th>2</th>\n",
              "      <td>6.536402e+12</td>\n",
              "    </tr>\n",
              "    <tr>\n",
              "      <th>3</th>\n",
              "      <td>6.034241e+12</td>\n",
              "    </tr>\n",
              "    <tr>\n",
              "      <th>4</th>\n",
              "      <td>5.143732e+12</td>\n",
              "    </tr>\n",
              "  </tbody>\n",
              "</table>\n",
              "</div>"
            ],
            "text/plain": [
              "               Total_data\n",
              "Decile_rank              \n",
              "0            5.439277e+12\n",
              "1            6.109410e+12\n",
              "2            6.536402e+12\n",
              "3            6.034241e+12\n",
              "4            5.143732e+12"
            ]
          },
          "metadata": {
            "tags": []
          },
          "execution_count": 49
        }
      ]
    },
    {
      "cell_type": "code",
      "metadata": {
        "id": "87qiIAmkPKTs",
        "colab": {
          "base_uri": "https://localhost:8080/",
          "height": 235
        },
        "outputId": "cc5553f6-de2a-4991-8e77-707ec8908b4c"
      },
      "source": [
        "task_1_1\n",
        "\n",
        "task_1_1['Decile_rank'] = pd.qcut(task_1_1['Total_xDR'], 10, duplicates='drop' , labels = False)\n",
        "\n",
        "\n",
        "task_1_2 = task_1_1.groupby('Decile_rank').agg(Total_data=('total_data_volume_(in Bytes)', 'sum'))\n",
        "task_1_2.head()"
      ],
      "execution_count": 50,
      "outputs": [
        {
          "output_type": "execute_result",
          "data": {
            "text/html": [
              "<div>\n",
              "<style scoped>\n",
              "    .dataframe tbody tr th:only-of-type {\n",
              "        vertical-align: middle;\n",
              "    }\n",
              "\n",
              "    .dataframe tbody tr th {\n",
              "        vertical-align: top;\n",
              "    }\n",
              "\n",
              "    .dataframe thead th {\n",
              "        text-align: right;\n",
              "    }\n",
              "</style>\n",
              "<table border=\"1\" class=\"dataframe\">\n",
              "  <thead>\n",
              "    <tr style=\"text-align: right;\">\n",
              "      <th></th>\n",
              "      <th>Total_data</th>\n",
              "    </tr>\n",
              "    <tr>\n",
              "      <th>Decile_rank</th>\n",
              "      <th></th>\n",
              "    </tr>\n",
              "  </thead>\n",
              "  <tbody>\n",
              "    <tr>\n",
              "      <th>0</th>\n",
              "      <td>5.439277e+12</td>\n",
              "    </tr>\n",
              "    <tr>\n",
              "      <th>1</th>\n",
              "      <td>6.109410e+12</td>\n",
              "    </tr>\n",
              "    <tr>\n",
              "      <th>2</th>\n",
              "      <td>6.536402e+12</td>\n",
              "    </tr>\n",
              "    <tr>\n",
              "      <th>3</th>\n",
              "      <td>6.034241e+12</td>\n",
              "    </tr>\n",
              "    <tr>\n",
              "      <th>4</th>\n",
              "      <td>5.143732e+12</td>\n",
              "    </tr>\n",
              "  </tbody>\n",
              "</table>\n",
              "</div>"
            ],
            "text/plain": [
              "               Total_data\n",
              "Decile_rank              \n",
              "0            5.439277e+12\n",
              "1            6.109410e+12\n",
              "2            6.536402e+12\n",
              "3            6.034241e+12\n",
              "4            5.143732e+12"
            ]
          },
          "metadata": {
            "tags": []
          },
          "execution_count": 50
        }
      ]
    },
    {
      "cell_type": "markdown",
      "metadata": {
        "id": "jYBc9DqwYv8Y"
      },
      "source": [
        "**Correlation Analysis** – compute a correlation matrix for the following variables\n",
        "and interpret your findings: Social Media data, Google data, Email data,\n",
        "Youtube data, Netflix data, Gaming data, Other data"
      ]
    },
    {
      "cell_type": "markdown",
      "metadata": {
        "id": "4l_m-TAvaFAs"
      },
      "source": [
        "\n",
        "Correlation Analysis for the cleaned data points is computed here.Also it is here shown that some variables are more related than other"
      ]
    },
    {
      "cell_type": "code",
      "metadata": {
        "colab": {
          "base_uri": "https://localhost:8080/",
          "height": 408
        },
        "id": "z4hjpHImaCuE",
        "outputId": "219e5286-7431-4d8f-8cf4-2342b4361546"
      },
      "source": [
        "del regression['Total']\n",
        "corrMatrix = regression.corr()\n",
        "print (corrMatrix)\n",
        "sns.heatmap(corrMatrix, annot=True)"
      ],
      "execution_count": 51,
      "outputs": [
        {
          "output_type": "stream",
          "text": [
            "           Social    Google   Youtube   Netflix    Gaming     Other\n",
            "Social   1.000000  0.000749  0.001472 -0.000958  0.001406  0.003856\n",
            "Google   0.000749  1.000000  0.002619 -0.001171  0.005089 -0.001475\n",
            "Youtube  0.001472  0.002619  1.000000 -0.001524  0.007751  0.004219\n",
            "Netflix -0.000958 -0.001171 -0.001524  1.000000  0.001267 -0.001195\n",
            "Gaming   0.001406  0.005089  0.007751  0.001267  1.000000 -0.000119\n",
            "Other    0.003856 -0.001475  0.004219 -0.001195 -0.000119  1.000000\n"
          ],
          "name": "stdout"
        },
        {
          "output_type": "execute_result",
          "data": {
            "text/plain": [
              "<matplotlib.axes._subplots.AxesSubplot at 0x7f2879ad0d90>"
            ]
          },
          "metadata": {
            "tags": []
          },
          "execution_count": 51
        },
        {
          "output_type": "display_data",
          "data": {
            "image/png": "[encoded data removed]",
            "text/plain": [
              "<Figure size 432x288 with 2 Axes>"
            ]
          },
          "metadata": {
            "tags": []
          }
        }
      ]
    },
    {
      "cell_type": "markdown",
      "metadata": {
        "id": "5Fi7YbmIZVCK"
      },
      "source": [
        "**Dimensionality Reduction**\n",
        "We can select some variables that we think can represent the entire data to draw some conclusion about the given data.\n",
        "we decide on the dimensions we select.\n",
        "For example by using total upload and total download we can draw some conclusion.\n",
        "The Dimensionality reduction can dramatically impact the performance of machine learning algorithms fit on data with many input features, generally referred to as the “***curse of dimensionality***.”"
      ]
    },
    {
      "cell_type": "code",
      "metadata": {
        "id": "5SD50PwaMw58"
      },
      "source": [
        ""
      ],
      "execution_count": null,
      "outputs": []
    }
  ]
}